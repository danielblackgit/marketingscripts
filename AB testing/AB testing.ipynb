{
 "cells": [
  {
   "cell_type": "code",
   "execution_count": 105,
   "id": "c5505515-d2cb-4abe-b2fe-22290aa7a656",
   "metadata": {},
   "outputs": [],
   "source": [
    "import pandas as pd\n",
    "import numpy as np\n",
    "import matplotlib.pyplot as plt\n",
    "from scipy.stats import ttest_ind"
   ]
  },
  {
   "cell_type": "code",
   "execution_count": 58,
   "id": "b259d7cd-5df6-423f-a2e4-feb1ea0b4248",
   "metadata": {},
   "outputs": [
    {
     "name": "stdout",
     "output_type": "stream",
     "text": [
      "<class 'pandas.core.frame.DataFrame'>\n",
      "Index: 565 entries, 354 to 10035\n",
      "Data columns (total 15 columns):\n",
      " #   Column               Non-Null Count  Dtype  \n",
      "---  ------               --------------  -----  \n",
      " 0   user_id              565 non-null    object \n",
      " 1   date_served          565 non-null    object \n",
      " 2   marketing_channel    565 non-null    object \n",
      " 3   variant              565 non-null    object \n",
      " 4   converted            565 non-null    bool   \n",
      " 5   language_displayed   565 non-null    object \n",
      " 6   language_preferred   565 non-null    object \n",
      " 7   age_group            565 non-null    object \n",
      " 8   date_subscribed      202 non-null    object \n",
      " 9   date_canceled        53 non-null     object \n",
      " 10  subscribing_channel  202 non-null    object \n",
      " 11  is_retained          565 non-null    bool   \n",
      " 12  DoW                  202 non-null    float64\n",
      " 13  channel_code         202 non-null    float64\n",
      " 14  is_correct_lang      565 non-null    object \n",
      "dtypes: bool(2), float64(2), object(11)\n",
      "memory usage: 62.9+ KB\n",
      "None\n"
     ]
    }
   ],
   "source": [
    "# read in marketing data\n",
    "df = pd.read_csv('marketing_data.csv', index_col = 0)\n",
    "\n",
    "# select email campaign\n",
    "email = df[df['marketing_channel'] == 'Email']\n",
    "\n",
    "# review dataframe\n",
    "print(email.info())"
   ]
  },
  {
   "cell_type": "code",
   "execution_count": 84,
   "id": "457d0fbe-6684-4656-acc0-7823f2e483b2",
   "metadata": {},
   "outputs": [
    {
     "data": {
      "image/png": "[encoded data removed]",
      "text/plain": [
       "<Figure size 640x480 with 1 Axes>"
      ]
     },
     "metadata": {},
     "output_type": "display_data"
    }
   ],
   "source": [
    "# check we have variant sizes as expected\n",
    "\n",
    "# count unique users in each variant\n",
    "allocation = email.groupby(['variant'])['user_id'].nunique()\n",
    "\n",
    "# plot a bar chart\n",
    "allocation.plot(kind = 'bar')\n",
    "\n",
    "plt.title('Email Test Variant Sample Sizes\\n')\n",
    "plt.xlabel('variant')\n",
    "plt.ylabel('# of participants')\n",
    "plt.xticks(rotation = 0)\n",
    "\n",
    "plt.show()\n"
   ]
  },
  {
   "cell_type": "code",
   "execution_count": 89,
   "id": "6f5d048f-8d61-405f-b8d8-c5909b4d054f",
   "metadata": {},
   "outputs": [
    {
     "name": "stdout",
     "output_type": "stream",
     "text": [
      "variant    control personalization\n",
      "user_id                           \n",
      "a100000526     NaN            True\n",
      "a100000530     NaN            True\n",
      "a100000534     NaN           False\n",
      "a100000538     NaN            True\n",
      "a100000542     NaN            True\n"
     ]
    }
   ],
   "source": [
    "# understand whether each user converted\n",
    "\n",
    "# group by user and variant and then unstack to give dataframe of all participants in their groups with their conversion status \n",
    "subscribers = email.groupby(['user_id','variant'])['converted'].max()\n",
    "\n",
    "subscribers = pd.DataFrame(subscribers.unstack(level=1))\n",
    "\n",
    "print(subscribers.head())"
   ]
  },
  {
   "cell_type": "code",
   "execution_count": 127,
   "id": "2c5c892b-7d57-47e0-9e33-cbd7c0feafba",
   "metadata": {},
   "outputs": [
    {
     "name": "stdout",
     "output_type": "stream",
     "text": [
      "Control conversion rate:  28.15%\n",
      "Test conversion rate:  39.08%\n"
     ]
    }
   ],
   "source": [
    "# create control and test series\n",
    "control = subscribers['control'].dropna()\n",
    "test = subscribers['personalization'].dropna()\n",
    "\n",
    "# convert series from object to boolean\n",
    "control = control.astype('bool')\n",
    "test = test.astype('bool')\n",
    "\n",
    "# print conversion rates\n",
    "print(\"Control conversion rate: \", str(round(np.mean(control)*100,2))+'%')\n",
    "print(\"Test conversion rate: \", str(round(np.mean(test)*100,2))+'%')\n"
   ]
  },
  {
   "cell_type": "code",
   "execution_count": 147,
   "id": "83b43a25-e11b-4c32-97d8-e0ee46dcf0b2",
   "metadata": {},
   "outputs": [],
   "source": [
    "# define test lift function\n",
    "\n",
    "def test_lift(control, test):\n",
    "    control_mean = np.mean(control)\n",
    "    test_mean = np.mean(test)\n",
    "\n",
    "    # calculate test lift vs. control\n",
    "    lift = (test_mean - control_mean) / control_mean\n",
    "    return lift"
   ]
  },
  {
   "cell_type": "code",
   "execution_count": 149,
   "id": "cb91f997-8481-4945-a4ba-ecbc6a6e52d3",
   "metadata": {},
   "outputs": [
    {
     "name": "stdout",
     "output_type": "stream",
     "text": [
      "Test lift:  38.85%\n",
      "TtestResult(statistic=-2.734329944750507, pvalue=0.0064514878446941815, df=552.0)\n"
     ]
    }
   ],
   "source": [
    "# testing for significance (independent t test)\n",
    "\n",
    "# calculate test lift vs. control\n",
    "lift = test_lift(control, test)\n",
    "print(\"Test lift: \", str(round(lift*100, 2))+'%')\n",
    "\n",
    "# run a independent samples t test to asses significance (note: assumes equal variance)\n",
    "t = ttest_ind(control, test)\n",
    "\n",
    "print(t)"
   ]
  },
  {
   "cell_type": "code",
   "execution_count": 187,
   "id": "3a3e9ba4-79c3-44e8-b31c-335ebea89217",
   "metadata": {},
   "outputs": [],
   "source": [
    "# AB testing function with segmentation\n",
    "\n",
    "def ab_testing_segment(segment):\n",
    "    \n",
    "    for subsegment in np.unique(email[segment].values):\n",
    "        print(subsegment)\n",
    "    \n",
    "        # create a df for each language\n",
    "        subsegment_data = email[(email[segment] == subsegment)]\n",
    "    \n",
    "        subscribers = subsegment_data.groupby(['user_id', 'variant'])['converted'].max()\n",
    "        subscribers = pd.DataFrame(subscribers.unstack(level=1))\n",
    "        \n",
    "        control = subscribers['control'].dropna()\n",
    "        test = subscribers['personalization'].dropna()\n",
    "    \n",
    "        control = control.astype('bool')\n",
    "        test = test.astype('bool')\n",
    "    \n",
    "        lift = test_lift(control, test)\n",
    "        t = ttest_ind(control, test)\n",
    "        \n",
    "        print(\"Test lift: \", str(round(lift*100, 2))+'%')\n",
    "        print(t, '\\n')"
   ]
  },
  {
   "cell_type": "code",
   "execution_count": 189,
   "id": "931aedd4-37db-4952-9fe7-193c80c3b979",
   "metadata": {},
   "outputs": [
    {
     "name": "stdout",
     "output_type": "stream",
     "text": [
      "0-18 years\n",
      "Test lift:  121.4%\n",
      "TtestResult(statistic=-2.966044912142212, pvalue=0.003872449439129706, df=89.0) \n",
      "\n",
      "19-24 years\n",
      "Test lift:  106.24%\n",
      "TtestResult(statistic=-3.0317943847866697, pvalue=0.0030623836114689195, df=105.0) \n",
      "\n",
      "24-30 years\n",
      "Test lift:  161.19%\n",
      "TtestResult(statistic=-3.861539544326876, pvalue=0.00018743381094867337, df=114.0) \n",
      "\n",
      "30-36 years\n",
      "Test lift:  -100.0%\n",
      "TtestResult(statistic=3.185906464414798, pvalue=0.0023238487431765337, df=58.0) \n",
      "\n",
      "36-45 years\n",
      "Test lift:  -85.23%\n",
      "TtestResult(statistic=2.431790127931851, pvalue=0.01797568600978825, df=61.0) \n",
      "\n",
      "45-55 years\n",
      "Test lift:  -72.22%\n",
      "TtestResult(statistic=2.0654991273179326, pvalue=0.04306233968820123, df=62.0) \n",
      "\n",
      "55+ years\n",
      "Test lift:  -100.0%\n",
      "TtestResult(statistic=3.326565456420339, pvalue=0.0016358623456360468, df=51.0) \n",
      "\n"
     ]
    }
   ],
   "source": [
    "ab_testing_segment('age_group')"
   ]
  },
  {
   "cell_type": "code",
   "execution_count": 191,
   "id": "ccdad84c-53b8-4d25-bb97-1084358885e6",
   "metadata": {},
   "outputs": [
    {
     "name": "stdout",
     "output_type": "stream",
     "text": [
      "Arabic\n",
      "Test lift:  50.0%\n",
      "TtestResult(statistic=-0.5773502691896255, pvalue=0.5795840000000001, df=8.0) \n",
      "\n",
      "English\n",
      "Test lift:  39.0%\n",
      "TtestResult(statistic=-2.2183598646203215, pvalue=0.026991701290720503, df=486.0) \n",
      "\n",
      "German\n",
      "Test lift:  -1.62%\n",
      "TtestResult(statistic=0.19100834180787182, pvalue=0.8494394170062678, df=42.0) \n",
      "\n",
      "Spanish\n",
      "Test lift:  166.67%\n",
      "TtestResult(statistic=-2.3570226039551585, pvalue=0.040156718110477524, df=10.0) \n",
      "\n"
     ]
    },
    {
     "name": "stderr",
     "output_type": "stream",
     "text": [
      "/opt/anaconda3/lib/python3.12/site-packages/scipy/stats/_axis_nan_policy.py:531: RuntimeWarning: Precision loss occurred in moment calculation due to catastrophic cancellation. This occurs when the data are nearly identical. Results may be unreliable.\n",
      "  res = hypotest_fun_out(*samples, **kwds)\n"
     ]
    }
   ],
   "source": [
    "ab_testing_segment('language_displayed')"
   ]
  }
 ],
 "metadata": {
  "kernelspec": {
   "display_name": "Python 3 (ipykernel)",
   "language": "python",
   "name": "python3"
  },
  "language_info": {
   "codemirror_mode": {
    "name": "ipython",
    "version": 3
   },
   "file_extension": ".py",
   "mimetype": "text/x-python",
   "name": "python",
   "nbconvert_exporter": "python",
   "pygments_lexer": "ipython3",
   "version": "3.12.4"
  }
 },
 "nbformat": 4,
 "nbformat_minor": 5
}
